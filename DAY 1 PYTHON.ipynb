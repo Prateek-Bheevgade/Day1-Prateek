{
 "cells": [
  {
   "cell_type": "code",
   "execution_count": 1,
   "id": "12c1d698",
   "metadata": {},
   "outputs": [
    {
     "name": "stdout",
     "output_type": "stream",
     "text": [
      "Hello I am Prateek\n"
     ]
    }
   ],
   "source": [
    "print(\"Hello I am Prateek\") # this is the input"
   ]
  },
  {
   "cell_type": "code",
   "execution_count": null,
   "id": "58f513e4",
   "metadata": {},
   "outputs": [],
   "source": [
    " "
   ]
  }
 ],
 "metadata": {
  "kernelspec": {
   "display_name": "Python 3 (ipykernel)",
   "language": "python",
   "name": "python3"
  },
  "language_info": {
   "codemirror_mode": {
    "name": "ipython",
    "version": 3
   },
   "file_extension": ".py",
   "mimetype": "text/x-python",
   "name": "python",
   "nbconvert_exporter": "python",
   "pygments_lexer": "ipython3",
   "version": "3.9.7"
  }
 },
 "nbformat": 4,
 "nbformat_minor": 5
}
